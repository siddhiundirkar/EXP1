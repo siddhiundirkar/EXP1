{
  "nbformat": 4,
  "nbformat_minor": 0,
  "metadata": {
    "colab": {
      "name": "R_Experiment1.ipynb",
      "provenance": []
    },
    "kernelspec": {
      "name": "ir",
      "display_name": "R"
    }
  },
  "cells": [
    {
      "cell_type": "markdown",
      "metadata": {
        "id": "ID8ytqkhyQUI"
      },
      "source": [
        "**Basics of R Programming**\n",
        "\n",
        "Let us learn basic building blocks of the R programming language.\n",
        "\n",
        "In most comman way R can be though as an interactive calculator.\n",
        "\n",
        "Try executing following code block\n"
      ]
    },
    {
      "cell_type": "code",
      "metadata": {
        "id": "7hXD17-fyJqc"
      },
      "source": [
        "In [1]:\r\n",
        "#Code cell\r\n",
        "5*7\r\n",
        "\r\n",
        "35"
      ],
      "execution_count": null,
      "outputs": []
    },
    {
      "cell_type": "code",
      "metadata": {
        "id": "t-ARpfcAyR3m"
      },
      "source": [
        "In [2]:\r\n",
        "typeof(12)\r\n",
        "'double'\r\n",
        "\r\n"
      ],
      "execution_count": null,
      "outputs": []
    },
    {
      "cell_type": "markdown",
      "metadata": {
        "id": "ggR98naey5IM"
      },
      "source": [
        "\r\n",
        "Store computed value in a variable\r\n",
        "\r\n",
        "The way you assign a value to a variable in R is by using the assignment operator, which is just a 'less than'symbol followed by a 'minus' sign. It looks like this: <-"
      ]
    },
    {
      "cell_type": "code",
      "metadata": {
        "id": "EwzSlUFvzDpI"
      },
      "source": [
        "In [59]:\r\n",
        "#Store result of 5+7 in varible c\r\n",
        "c<-5+7\r\n",
        "c\r\n",
        "\r\n",
        "12"
      ],
      "execution_count": null,
      "outputs": []
    },
    {
      "cell_type": "code",
      "metadata": {
        "id": "UY9FzcBXzKEy"
      },
      "source": [
        "In [4]:\r\n",
        "typeof(c)\r\n",
        "\r\n",
        "'double'"
      ],
      "execution_count": null,
      "outputs": []
    },
    {
      "cell_type": "markdown",
      "metadata": {
        "id": "JjXsAUSYzPu1"
      },
      "source": [
        "\r\n",
        "We can further use variable c in another exrpession to create variable b which is 1 excess that one fourth of value of c"
      ]
    },
    {
      "cell_type": "code",
      "metadata": {
        "id": "ztkrtUECzSf-"
      },
      "source": [
        "In [5]:\r\n",
        "b<-c/4+1\r\n",
        "b \r\n",
        "d=c/4+1\r\n",
        "d\r\n",
        "14.25"
      ],
      "execution_count": null,
      "outputs": []
    },
    {
      "cell_type": "code",
      "metadata": {
        "id": "cVJNj1yPzh4P"
      },
      "source": [
        "In [6]:\r\n",
        "typeof(b)\r\n",
        "typeof(d)\r\n",
        "\r\n",
        "'double'"
      ],
      "execution_count": null,
      "outputs": []
    },
    {
      "cell_type": "markdown",
      "metadata": {
        "id": "OKiCmr9hzqIe"
      },
      "source": [
        "\r\n",
        "Creation of Vector\r\n",
        "\r\n",
        "The easiest way to create a vector is with the c() function, which stands for 'concatenate' or 'combine'.\r\n",
        "\r\n",
        "To create a vector containing the numbers 1.1, 9, and 3.14, type c(1.1, 9, 3.14). Try it now and store the result in a variable called z in following code block."
      ]
    },
    {
      "cell_type": "code",
      "metadata": {
        "id": "2yN4ygeZz2f_"
      },
      "source": [
        "In [60]:\r\n",
        "z <- c(1.1, 9, 3.14)\r\n",
        "z\r\n",
        "z1 <- c(1.1, 9, 5,566,4564.545646)\r\n",
        "z1\r\n",
        "\r\n",
        "1.1.1\r\n",
        "2.9\r\n",
        "3.3.14\r\n",
        "\r\n",
        "1.1.1\r\n",
        "2.9\r\n",
        "3.5\r\n",
        "4.566\r\n",
        "5.4564.545646"
      ],
      "execution_count": null,
      "outputs": []
    },
    {
      "cell_type": "code",
      "metadata": {
        "id": "6jnFmIbL0KM5"
      },
      "source": [
        "In [8]:\r\n",
        "typeof(z)\r\n",
        "typeof(z1)\r\n",
        "class(z)\r\n",
        "\r\n",
        "'character'\r\n",
        "\r\n",
        "'double'\r\n",
        "\r\n",
        "'character'"
      ],
      "execution_count": null,
      "outputs": []
    },
    {
      "cell_type": "code",
      "metadata": {
        "id": "u1diwHAn0V6m"
      },
      "source": [
        "In [9]:\r\n",
        "z\r\n",
        "1.'1.1'\r\n",
        "2.'9'\r\n",
        "3.'dhg'"
      ],
      "execution_count": null,
      "outputs": []
    },
    {
      "cell_type": "code",
      "metadata": {
        "id": "CoqdN8ZR0eeN"
      },
      "source": [
        "In [10]:\r\n",
        "#Get Documentation about concatinate\r\n",
        "?c\r\n",
        "#help(c)"
      ],
      "execution_count": null,
      "outputs": []
    },
    {
      "cell_type": "markdown",
      "metadata": {
        "id": "p6clRwzH0hJ1"
      },
      "source": [
        "You can combine vectors to make a new vector.\r\n",
        "\r\n",
        "Create a new vector that contains z, 555, then z again in that order. Don't assign this vector to a new variable, so that we can just see the result immediately."
      ]
    },
    {
      "cell_type": "code",
      "metadata": {
        "id": "ZD-zkL4o0jWe"
      },
      "source": [
        "In [61]:\r\n",
        "c(z,555,z)\r\n",
        "1.1.1\r\n",
        "2.9\r\n",
        "3.3.14\r\n",
        "4.555\r\n",
        "5.1.1\r\n",
        "6.9\r\n",
        "7.3.14"
      ],
      "execution_count": null,
      "outputs": []
    },
    {
      "cell_type": "code",
      "metadata": {
        "id": "k93yPb6w0uPU"
      },
      "source": [
        "In [12]:\r\n",
        "z<-c(3,6,5)"
      ],
      "execution_count": null,
      "outputs": []
    },
    {
      "cell_type": "markdown",
      "metadata": {
        "id": "maf6sVew0wrB"
      },
      "source": [
        "Using Vector in Expression\r\n",
        "\r\n",
        "compute z^2 + 3 and check output"
      ]
    },
    {
      "cell_type": "code",
      "metadata": {
        "id": "lzHHee9s00EN"
      },
      "source": [
        "In [13]:\r\n",
        "z\r\n",
        "z^2+3\r\n",
        "1.3\r\n",
        "2.6\r\n",
        "3.5\r\n",
        "\r\n",
        "1.12\r\n",
        "2.39\r\n",
        "3.28"
      ],
      "execution_count": null,
      "outputs": []
    },
    {
      "cell_type": "markdown",
      "metadata": {
        "id": "wL-JWloV1ASN"
      },
      "source": [
        "\r\n",
        "Comman Arithmatic Operators in R\r\n",
        "\r\n",
        "+, -, /, *, ^ are comman operators and sqrt, abs are arithmatic functions in R\r\n",
        "\r\n",
        "When given two vectors of the same length, R simply performs the specified arithmetic operation (+, -, * etc.) element-by-element. If the vectors are of different lengths, R 'recycles' the shorter vector until it is the same length as the longer vector.\r\n",
        "\r\n",
        "When we do z * 2 + 100, z is a vector of length 3, but technically 2 and 100 are each vectors of length 1."
      ]
    },
    {
      "cell_type": "code",
      "metadata": {
        "id": "JgfBnMMy1FUl"
      },
      "source": [
        "In [14]:\r\n",
        "y<-rep(2,10)\r\n",
        "y\r\n",
        "length(y)\r\n",
        "\r\n",
        "1.2\r\n",
        "2.2\r\n",
        "3.2\r\n",
        "4.2\r\n",
        "5.2\r\n",
        "6.2\r\n",
        "7.2\r\n",
        "8.2\r\n",
        "9.2\r\n",
        "10.2"
      ],
      "execution_count": null,
      "outputs": []
    },
    {
      "cell_type": "code",
      "metadata": {
        "id": "V7635Vkp1ZR0"
      },
      "source": [
        "\r\n",
        "10\r\n",
        "In [15]:\r\n",
        "# Does recycling explains output of following expression\r\n",
        "c(1, 2, 3, 4) + c(0, 10)\r\n",
        "c(1, 2, 3, 4) + c(0, 10, 0 ,10)\r\n",
        "c(1, 2, 3, 4, 5) + c(2, 10)\r\n",
        "c(1, 2, 3, 4, 5) + c(2, 10, 2, 10, 2)\r\n",
        "\r\n",
        "1.1\r\n",
        "2.12\r\n",
        "3.3\r\n",
        "4.14\r\n",
        "\r\n",
        "1.1\r\n",
        "2.12\r\n",
        "3.3\r\n",
        "4.14"
      ],
      "execution_count": null,
      "outputs": []
    },
    {
      "cell_type": "markdown",
      "metadata": {
        "id": "yEYCM2Jg1kus"
      },
      "source": [
        "\r\n",
        "Warning message in c(1, 2, 3, 4, 5) + c(2, 10):\r\n",
        "“longer object length is not a multiple of shorter object length”\r\n"
      ]
    },
    {
      "cell_type": "markdown",
      "metadata": {
        "id": "RcxtvnI71smh"
      },
      "source": [
        "How to access disk?"
      ]
    },
    {
      "cell_type": "code",
      "metadata": {
        "id": "DX7wWVd81wbI"
      },
      "source": [
        "In [16]:\r\n",
        "curdir<-getwd()\r\n",
        "curdir\r\n",
        "\r\n",
        "'/content'"
      ],
      "execution_count": null,
      "outputs": []
    },
    {
      "cell_type": "code",
      "metadata": {
        "id": "064OKU0H11vH"
      },
      "source": [
        "In [17]:\r\n",
        "ls()\r\n",
        "\r\n",
        "1.'b'\r\n",
        "2.'c'\r\n",
        "3.'curdir'\r\n",
        "4.'d'\r\n",
        "5.'y'\r\n",
        "6.'z'\r\n",
        "7.'z1'"
      ],
      "execution_count": null,
      "outputs": []
    },
    {
      "cell_type": "code",
      "metadata": {
        "id": "-oaEtWpo1_dQ"
      },
      "source": [
        "In [18]:\r\n",
        "#show you files in PWD\r\n",
        "list.files()\r\n",
        "#dir('.')\r\n",
        "\r\n",
        "'sample_data'"
      ],
      "execution_count": null,
      "outputs": []
    },
    {
      "cell_type": "code",
      "metadata": {
        "id": "ts2ZZLQ12DIK"
      },
      "source": [
        "In [19]:\r\n",
        "list.dirs('sample_data')\r\n",
        "\r\n",
        "'sample_data'"
      ],
      "execution_count": null,
      "outputs": []
    },
    {
      "cell_type": "code",
      "metadata": {
        "id": "FlQ3Ge8m2GyO"
      },
      "source": [
        "In [20]:\r\n",
        "old_dir<-getwd()"
      ],
      "execution_count": null,
      "outputs": []
    },
    {
      "cell_type": "code",
      "metadata": {
        "id": "6v1Zs4UA2JE5"
      },
      "source": [
        "In [21]:\r\n",
        "#creates a folder on ur device \r\n",
        "dir.create('test2')\r\n"
      ],
      "execution_count": null,
      "outputs": []
    },
    {
      "cell_type": "code",
      "metadata": {
        "id": "5zMCf__D2NH9"
      },
      "source": [
        "In [22]:\r\n",
        "list.dirs()\r\n",
        "\r\n",
        "1.'.'\r\n",
        "2.'./.config'\r\n",
        "3.'./.config/configurations'\r\n",
        "4.'./.config/logs'\r\n",
        "5.'./.config/logs/2021.03.01'\r\n",
        "6.'./sample_data'\r\n",
        "7.'./test2'"
      ],
      "execution_count": null,
      "outputs": []
    },
    {
      "cell_type": "code",
      "metadata": {
        "id": "LjfnOCf52X_T"
      },
      "source": [
        "In [23]:\r\n",
        "getwd()\r\n",
        "'/content'"
      ],
      "execution_count": null,
      "outputs": []
    },
    {
      "cell_type": "code",
      "metadata": {
        "id": "R2kowsM82aoR"
      },
      "source": [
        "In [24]:\r\n",
        "file.create('mytest.R')\r\n",
        "TRUE"
      ],
      "execution_count": null,
      "outputs": []
    },
    {
      "cell_type": "code",
      "metadata": {
        "id": "NDcLKDDF2cxU"
      },
      "source": [
        "In [25]:\r\n",
        "dir()\r\n",
        "\r\n",
        "1.'mytest.R'\r\n",
        "2.'sample_data'\r\n",
        "3.'test2'"
      ],
      "execution_count": null,
      "outputs": []
    },
    {
      "cell_type": "code",
      "metadata": {
        "id": "0v9FR5O92j3g"
      },
      "source": [
        "In [26]:\r\n",
        "file.exists('/test2/mytest.R')\r\n",
        "file.exists('mytest.R')\r\n",
        "\r\n",
        "FALSE\r\n",
        "\r\n",
        "TRUE"
      ],
      "execution_count": null,
      "outputs": []
    },
    {
      "cell_type": "code",
      "metadata": {
        "id": "IyIir_xS2-n3"
      },
      "source": [
        "In [28]:\r\n",
        "file.rename('mytest.R','mytest2.R')\r\n",
        "TRUE"
      ],
      "execution_count": null,
      "outputs": []
    },
    {
      "cell_type": "code",
      "metadata": {
        "id": "a88zjBD33E8u"
      },
      "source": [
        "In [29]:\r\n",
        "dir()\r\n",
        "1.'mytest2.R'\r\n",
        "2.'sample_data'\r\n",
        "3.'test2'"
      ],
      "execution_count": null,
      "outputs": []
    },
    {
      "cell_type": "code",
      "metadata": {
        "id": "yUpkYLUa3cnh"
      },
      "source": [
        "In [30]:\r\n",
        "file.copy('mytest2.R','mytest3.R')\r\n",
        "TRUE"
      ],
      "execution_count": null,
      "outputs": []
    },
    {
      "cell_type": "code",
      "metadata": {
        "id": "38_HxXnh3enb"
      },
      "source": [
        "In [31]:\r\n",
        "file.path('testdir2','testdir3')\r\n",
        "'testdir2/testdir3'"
      ],
      "execution_count": null,
      "outputs": []
    },
    {
      "cell_type": "code",
      "metadata": {
        "id": "KhdSqqrB3iRN"
      },
      "source": [
        "In [32]:\r\n",
        "dir.create(file.path('testdir2','testdir3'),recursive = TRUE)"
      ],
      "execution_count": null,
      "outputs": []
    },
    {
      "cell_type": "code",
      "metadata": {
        "id": "SLzRGBvn3kmW"
      },
      "source": [
        "In [33]:\r\n",
        "dir()\r\n",
        "1.'mytest2.R'\r\n",
        "2.'mytest3.R'\r\n",
        "3.'sample_data'\r\n",
        "4.'test2'\r\n",
        "5.'testdir2'"
      ],
      "execution_count": null,
      "outputs": []
    },
    {
      "cell_type": "code",
      "metadata": {
        "id": "4AlCJ-d63uuW"
      },
      "source": [
        "In [34]:\r\n",
        "setwd('testdir2')"
      ],
      "execution_count": null,
      "outputs": []
    },
    {
      "cell_type": "code",
      "metadata": {
        "id": "Q5JCynwN3xEx"
      },
      "source": [
        "In [35]:\r\n",
        "dir()\r\n",
        "getwd()\r\n",
        "\r\n",
        "'testdir3'\r\n",
        "\r\n",
        "'/content/testdir2'"
      ],
      "execution_count": null,
      "outputs": []
    },
    {
      "cell_type": "markdown",
      "metadata": {
        "id": "_tvZ7URZ32OQ"
      },
      "source": [
        "\r\n",
        "Complete following tasks\r\n",
        "\r\n",
        "Write R Code:\r\n",
        "\r\n",
        "To create a directory named myworkplace in current working dirctory.\r\n",
        "Create a folders/directories exp1 and exp2 in it.\r\n",
        "Navigate to exp1 and create a file named my_file.txt.\r\n",
        "Copy it to my_file1.txt\r\n",
        "List files and folders in PWD and also in '/contents' directory\r\n",
        "Display only File access permisssion in the output for every file in exp1 folder."
      ]
    },
    {
      "cell_type": "code",
      "metadata": {
        "id": "Yti9bB0m35DY"
      },
      "source": [
        "In [43]:\r\n",
        "getwd()\r\n",
        "dir.create('myworkplace')\r\n",
        "getwd()\r\n",
        "\r\n",
        "\r\n",
        "'/content/testdir2'\r\n",
        "\r\n",
        "'/content/testdir2'"
      ],
      "execution_count": null,
      "outputs": []
    },
    {
      "cell_type": "code",
      "metadata": {
        "id": "5M1IdUG94fqk"
      },
      "source": [
        "In [58]:\r\n",
        "setwd('/content/testdir2/myworkplace/exp1')\r\n",
        "file.access('my_file.txt')\r\n",
        "file.access('my_file1.txt')\r\n",
        "my_file.txt: 0\r\n",
        "my_file1.txt: 0"
      ],
      "execution_count": null,
      "outputs": []
    },
    {
      "cell_type": "code",
      "metadata": {
        "id": "0xiqy0zY39Rr"
      },
      "source": [
        "In [44]:\r\n",
        "setwd('myworkplace')\r\n",
        "getwd()\r\n",
        "\r\n",
        "'/content/testdir2/myworkplace'"
      ],
      "execution_count": null,
      "outputs": []
    },
    {
      "cell_type": "code",
      "metadata": {
        "id": "CiLuPPYe4Awe"
      },
      "source": [
        "In [45]:\r\n",
        "dir.create('exp1')\r\n",
        "dir.create('exp2')\r\n",
        "setwd('exp1')\r\n"
      ],
      "execution_count": null,
      "outputs": []
    },
    {
      "cell_type": "code",
      "metadata": {
        "id": "gIJuR3a64E8-"
      },
      "source": [
        "In [46]:\r\n",
        "getwd()\r\n",
        "'/content/testdir2/myworkplace/exp1'"
      ],
      "execution_count": null,
      "outputs": []
    },
    {
      "cell_type": "code",
      "metadata": {
        "id": "RERdpjgV4H4-"
      },
      "source": [
        "In [47]:\r\n",
        "file.create('my_file.txt')\r\n",
        "\r\n",
        "TRUE"
      ],
      "execution_count": null,
      "outputs": []
    },
    {
      "cell_type": "code",
      "metadata": {
        "id": "H2cL5GWr4KeX"
      },
      "source": [
        "In [48]:\r\n",
        "file.copy('my_file.txt','my_file1.txt')\r\n",
        "\r\n",
        "TRUE"
      ],
      "execution_count": null,
      "outputs": []
    },
    {
      "cell_type": "code",
      "metadata": {
        "id": "wLsD4rFL4Mlv"
      },
      "source": [
        "In [49]:\r\n",
        "list.files()\r\n",
        "\r\n",
        "1.'my_file.txt'\r\n",
        "2.'my_file1.txt'"
      ],
      "execution_count": null,
      "outputs": []
    },
    {
      "cell_type": "code",
      "metadata": {
        "id": "jjz925HT4Qr-"
      },
      "source": [
        "In [51]:\r\n",
        "setwd('/content')\r\n",
        "getwd()\r\n",
        "\r\n",
        "'/content'"
      ],
      "execution_count": null,
      "outputs": []
    },
    {
      "cell_type": "code",
      "metadata": {
        "id": "JQ9elsSZ4T_r"
      },
      "source": [
        "In [52]:\r\n",
        "list.files()\r\n",
        "\r\n",
        "1.'mytest2.R'\r\n",
        "2.'mytest3.R'\r\n",
        "3.'sample_data'\r\n",
        "4.'test2'\r\n",
        "5.'testdir2'"
      ],
      "execution_count": null,
      "outputs": []
    }
  ]
}